{
  "cells": [
    {
      "cell_type": "markdown",
      "id": "e3c77c50",
      "metadata": {
        "id": "e3c77c50"
      },
      "source": [
        "# Imports"
      ]
    },
    {
      "cell_type": "code",
      "execution_count": null,
      "id": "c0b4d58a",
      "metadata": {
        "id": "c0b4d58a",
        "outputId": "aee879db-282f-4112-b694-4fda9a50286c"
      },
      "outputs": [
        {
          "name": "stdout",
          "output_type": "stream",
          "text": [
            "Import Complete\n"
          ]
        }
      ],
      "source": [
        "# From Imports\n",
        "from math import log, sqrt, pi, exp\n",
        "from scipy.stats import norm\n",
        "from datetime import datetime, date\n",
        "from pandas import DataFrame\n",
        "from datetime import datetime\n",
        "from scipy.optimize import minimize\n",
        "from arch import arch_model\n",
        "from sklearn.linear_model import LinearRegression\n",
        "from sklearn.metrics import mean_squared_error\n",
        "\n",
        "# Alias Imports\n",
        "import numpy_financial as npf\n",
        "import numpy as np\n",
        "import pandas as pd\n",
        "import matplotlib.pyplot as plt\n",
        "import seaborn as sns\n",
        "import pmdarima as pm\n",
        "\n",
        "# Imports\n",
        "import math\n",
        "import arch\n",
        "import openpyxl\n",
        "import pprint\n",
        "\n",
        "print(\"Import Complete\")"
      ]
    },
    {
      "cell_type": "markdown",
      "id": "e83f8e92",
      "metadata": {
        "id": "e83f8e92"
      },
      "source": [
        "# Importing Uniswap Pool, LP, and USDC Lending Rate Data"
      ]
    },
    {
      "cell_type": "code",
      "execution_count": null,
      "id": "aa1a9057",
      "metadata": {
        "id": "aa1a9057"
      },
      "outputs": [],
      "source": [
        "prices_100bp = []\n",
        "volumes_100bp = [] #total $USD volume of USDC and ETH traded on each block\n",
        "avg_LP_spread_100bp = [] #probably need an intermediate step to calc this, avg_LP_upper - avg_LP_lower on each block interval\n",
        "active_liq_depth_100bp = [] # sum(x) * sum (y), where the sums are based on the LP positions that contain the current price in their range\n"
      ]
    },
    {
      "cell_type": "markdown",
      "id": "cc216f22",
      "metadata": {
        "id": "cc216f22"
      },
      "source": [
        "# Predicted Loss Function Calculations"
      ]
    },
    {
      "cell_type": "code",
      "execution_count": null,
      "id": "5aa29a5d",
      "metadata": {
        "id": "5aa29a5d"
      },
      "outputs": [],
      "source": [
        "#Helper functions\n",
        "\n",
        "#Used to calculate alpha_lu, alpha_d, and alpha_0\n",
        "def alpha_t(k, Z, Zl, Zu)\n",
        "        if Zl < Z < Zu\n",
        "            xi = k * (Z**(1/2) - (Zl)**(1/2))\n",
        "            yi = k * (Z**(-1/2) - Zu**(-1/2))\n",
        "            alpha = xi + yi * Z\n",
        "        elif Z < Zl:\n",
        "            xi = 0\n",
        "            yi = k * ((Zl)**(-1/2) - (Zu)**(-1/2))\n",
        "            alpha = xi + yi * Z\n",
        "        elif Z > Zu:\n",
        "            xi = k * ((Zu)**(1/2) - (Zl)**(1/2))\n",
        "            yi = 0\n",
        "            alpha = xi + yi * Z\n",
        "        return alpha\n",
        "\n",
        "#See denominator or convexity cost\n",
        "def LP_spread_conversion(Z, Zl, Zu):\n",
        "    sigma_u = -2 * (Z**(1/2)) / (Zu**(1/2)) + 2\n",
        "    sigma_l = -2 * (Z**(1/2)) / (Zl**(1/2)) + 2\n",
        "    return sigma_u + sigma_l\n",
        "\n",
        "#Quadratic Variation, needs multiple step ahead forecast, maybe generate 20 forecasts over the short block interval\n",
        "def calc_QV(Z):\n",
        "    log_returns = np.diff(np.log(price_list))\n",
        "    QV = []\n",
        "    for i in range(10, len(log_returns), 10):\n",
        "        QV.append(np.sum(np.diff(log_returns[i-10:i])**2))\n",
        "    QV = pd.Series(QV)\n",
        "    return QV\n"
      ]
    },
    {
      "cell_type": "code",
      "execution_count": null,
      "id": "ff3008f2",
      "metadata": {
        "id": "ff3008f2"
      },
      "outputs": [],
      "source": [
        "#Combining calculations\n",
        "#functionally very similar to LVR\n",
        "\n",
        "\n",
        "\n",
        "#Active tick range data\n",
        "alpha_lu = []\n",
        "Zl_avg = [] #for every single timestamp, this list contains the average lower bound of the LPs\n",
        "Zu_avg = [] #for every single timestamp, this list contains the average upper bound of the LPs\n",
        "\n",
        "\n",
        "def calculate_conv_cost(alpha_lu, Zl, Zu, Z):\n",
        "    integral = 0\n",
        "    for i in range(len(Z)):\n",
        "      alpha_curr_lu = alpha_lu[i]\n",
        "      spread = LP_spread_conversion(Z[i], Zl_avg[i], Zu_avg[i])\n",
        "      quad_var = calc_QV(Z[:i])\n",
        "      integral += alpha_curr_lu / (2* spread * Z[i]**2) * quad_var\n",
        "\n",
        "    return integral\n",
        "\n",
        "convexity_cost = calculate_conv_cost()"
      ]
    },
    {
      "cell_type": "code",
      "source": [
        "def calculate_opp_cost(alpha_lu, initial_alpha, r):\n",
        "    integral = 0\n",
        "    alpha_d = initial_alpha\n",
        "\n",
        "    for i in range(len(alpha_lu)):\n",
        "        integral += (alpha_lu[i] - alpha_0) * r[i]\n",
        "    return integral\n",
        "\n",
        "initial_alpha = alpha_lu[0]\n",
        "\n",
        "opportunity_cost = calculate_opp_cost(Z_values, r_values, k, Zl, Zu, initial_alpha)"
      ],
      "metadata": {
        "id": "y3D1inaCQyuV"
      },
      "id": "y3D1inaCQyuV",
      "execution_count": null,
      "outputs": []
    },
    {
      "cell_type": "code",
      "execution_count": null,
      "id": "ae349c24",
      "metadata": {
        "id": "ae349c24"
      },
      "outputs": [],
      "source": [
        "#PL = convexity_cost + opportunity_cost"
      ]
    },
    {
      "cell_type": "markdown",
      "id": "c544ee15",
      "metadata": {
        "id": "c544ee15"
      },
      "source": [
        "# Fitting and Forecasting Parameters using TS Models"
      ]
    },
    {
      "cell_type": "code",
      "execution_count": null,
      "id": "08156beb",
      "metadata": {
        "id": "08156beb"
      },
      "outputs": [],
      "source": [
        "#NOTE, EDITED USING ROLLING ORIGIN VALIDATION (ROV)\n",
        "\n",
        "# Define the number of initial observations for training\n",
        "training_size = 100\n",
        "# Define the size of the rolling testing window\n",
        "testing_size = 1\n",
        "\n",
        "# Initialize the ARIMA-GARCH model\n",
        "arima_model = pm.auto_arima(Z[:training_size], suppress_warnings=True)\n",
        "garch_model = arch.arch_model(Z[:training_size], vol='Garch', p=1, q=1)\n",
        "\n",
        "# Lists to store performance metrics\n",
        "mae_list = []\n",
        "mse_list = []\n",
        "\n",
        "# Iterate through the data using ROCV\n",
        "for i in range(training_size, len(Z) - testing_size + 1):\n",
        "    training_data = Z[i - training_size:i]\n",
        "    testing_data = Z[i:i + testing_size]\n",
        "\n",
        "    # Re-estimate the ARIMA model with new training data\n",
        "    arima_model.fit(training_data)\n",
        "    best_arima_order = arima_model.order\n",
        "\n",
        "    # Re-estimate the GARCH model with new training data\n",
        "    garch_model = arch.arch_model(training_data, vol='Garch', p=best_arima_order[0], q=best_arima_order[1])\n",
        "    res = garch_model.fit(disp='off')\n",
        "\n",
        "    # Forecast the next value using the updated model\n",
        "    forecast = arima_model.predict(n_periods=testing_size)\n",
        "    volatility = res.conditional_volatility[-1]\n",
        "    forecast = forecast * np.sqrt(volatility)\n",
        "\n",
        "    # Calculate evaluation metrics\n",
        "    mae = mean_absolute_error(testing_data, forecast)\n",
        "    mse = mean_squared_error(testing_data, forecast)\n",
        "\n",
        "    mae_list.append(mae)\n",
        "    mse_list.append(mse)\n",
        "\n",
        "# Calculate the average or other statistics for the performance metrics\n",
        "average_mae = np.mean(mae_list)\n",
        "average_mse = np.mean(mse_list)\n",
        "\n"
      ]
    },
    {
      "cell_type": "code",
      "source": [
        "#Asks\n",
        "\n",
        "#1. Pull following data for 3 pools and put into list format: prices, alpha_lu (aggregate at each block stamp, not individual), Zl_avg (average lower tick / block)\n",
        "# Zu_avg (average upper tick per block)\n",
        "\n",
        "#2. Plug each of those into the code above where the list Z is being utilized, see how long runtime is\n",
        "\n",
        "#3. Modify code to store forecasts at one step ahead intervals\n",
        "\n",
        "#4. Plug those parameters into PL code and print results\n",
        "\n",
        "#5. Use volume series, again forecast and save one step ahead forecasts\n",
        "\n",
        "#6. Divide PL / Volume series to determine a fee %, plot fee percent over time to sanity check\n"
      ],
      "metadata": {
        "id": "buhb1z_T6KW6"
      },
      "id": "buhb1z_T6KW6",
      "execution_count": null,
      "outputs": []
    },
    {
      "cell_type": "code",
      "execution_count": null,
      "id": "3ef857be",
      "metadata": {
        "id": "3ef857be"
      },
      "outputs": [],
      "source": []
    }
  ],
  "metadata": {
    "kernelspec": {
      "display_name": "Python 3 (ipykernel)",
      "language": "python",
      "name": "python3"
    },
    "language_info": {
      "codemirror_mode": {
        "name": "ipython",
        "version": 3
      },
      "file_extension": ".py",
      "mimetype": "text/x-python",
      "name": "python",
      "nbconvert_exporter": "python",
      "pygments_lexer": "ipython3",
      "version": "3.11.4"
    },
    "colab": {
      "provenance": []
    }
  },
  "nbformat": 4,
  "nbformat_minor": 5
}